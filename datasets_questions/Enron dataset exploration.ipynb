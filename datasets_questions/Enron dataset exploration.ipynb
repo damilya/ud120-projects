{
 "cells": [
  {
   "cell_type": "code",
   "execution_count": 1,
   "id": "fc3f1d1f",
   "metadata": {},
   "outputs": [],
   "source": [
    "# gathering data from a pikled file (dictionary of dictionaries)\n",
    "import joblib\n",
    "import numpy as np\n",
    "\n",
    "enron_data = joblib.load(open(\"../final_project/final_project_dataset.pkl\", \"rb\"))"
   ]
  },
  {
   "cell_type": "code",
   "execution_count": 15,
   "id": "d3bd09ad",
   "metadata": {},
   "outputs": [
    {
     "name": "stdout",
     "output_type": "stream",
     "text": [
      "Enron dataset has 146 data points (people)\n"
     ]
    }
   ],
   "source": [
    "# count the number of keys in enron_data dictionary\n",
    "print(\"Enron dataset has %d data points (people)\" % (len(enron_data)))"
   ]
  },
  {
   "cell_type": "code",
   "execution_count": 29,
   "id": "f4386269",
   "metadata": {},
   "outputs": [
    {
     "name": "stdout",
     "output_type": "stream",
     "text": [
      "Each person has 21 features\n"
     ]
    }
   ],
   "source": [
    "# count the number of features each key (person) has\n",
    "print(\"Each person has %d features\" % len(enron_data['METTS MARK']))"
   ]
  },
  {
   "cell_type": "code",
   "execution_count": 41,
   "id": "b854c18b",
   "metadata": {},
   "outputs": [
    {
     "name": "stdout",
     "output_type": "stream",
     "text": [
      "There are 18 POIs\n"
     ]
    }
   ],
   "source": [
    "# count how many persons of interest (POI) we have\n",
    "pois = [x for x, y in enron_data.items() if y['poi']]  \n",
    "print(\"There are %d POIs\" % len(pois))"
   ]
  },
  {
   "cell_type": "code",
   "execution_count": 54,
   "id": "95972ed2",
   "metadata": {},
   "outputs": [
    {
     "name": "stdout",
     "output_type": "stream",
     "text": [
      "There are 35 names in poi txt file\n"
     ]
    }
   ],
   "source": [
    "# get poi names\n",
    "poi_txt = \"../final_project/poi_names.txt\"\n",
    "poi_names = open(poi_txt, 'r')\n",
    "n_names = 0\n",
    "for line in poi_names:\n",
    "    #print(line[4:])\n",
    "    n_names += 1\n",
    "print(\"There are %d names in poi txt file\" % (n_names - 2))"
   ]
  },
  {
   "cell_type": "code",
   "execution_count": 59,
   "id": "f279fbae",
   "metadata": {},
   "outputs": [
    {
     "data": {
      "text/plain": [
       "1095040"
      ]
     },
     "execution_count": 59,
     "metadata": {},
     "output_type": "execute_result"
    }
   ],
   "source": [
    "# query the total value of stock belonging to James Prentice\n",
    "enron_data['PRENTICE JAMES']['total_stock_value']"
   ]
  },
  {
   "cell_type": "code",
   "execution_count": 62,
   "id": "b22e1f5f",
   "metadata": {},
   "outputs": [
    {
     "data": {
      "text/plain": [
       "11"
      ]
     },
     "execution_count": 62,
     "metadata": {},
     "output_type": "execute_result"
    }
   ],
   "source": [
    "# query the number of messages sent from Wesley Colwell to POIs\n",
    "enron_data['COLWELL WESLEY']['from_this_person_to_poi']"
   ]
  },
  {
   "cell_type": "code",
   "execution_count": 70,
   "id": "23617050",
   "metadata": {},
   "outputs": [
    {
     "data": {
      "text/plain": [
       "19250000"
      ]
     },
     "execution_count": 70,
     "metadata": {},
     "output_type": "execute_result"
    }
   ],
   "source": [
    "# query the total sum of stock options of Jeffrey K Skilling\n",
    "enron_data['SKILLING JEFFREY K']['exercised_stock_options']"
   ]
  },
  {
   "cell_type": "code",
   "execution_count": 72,
   "id": "9913a92e",
   "metadata": {},
   "outputs": [
    {
     "data": {
      "text/plain": [
       "2424083"
      ]
     },
     "execution_count": 72,
     "metadata": {},
     "output_type": "execute_result"
    }
   ],
   "source": [
    "enron_data['FASTOW ANDREW S']['total_payments']"
   ]
  },
  {
   "cell_type": "code",
   "execution_count": 74,
   "id": "b9eb7f63",
   "metadata": {},
   "outputs": [
    {
     "data": {
      "text/plain": [
       "103559793"
      ]
     },
     "execution_count": 74,
     "metadata": {},
     "output_type": "execute_result"
    }
   ],
   "source": [
    "enron_data['LAY KENNETH L']['total_payments']"
   ]
  },
  {
   "cell_type": "code",
   "execution_count": 75,
   "id": "8cccf6cc",
   "metadata": {},
   "outputs": [
    {
     "data": {
      "text/plain": [
       "8682716"
      ]
     },
     "execution_count": 75,
     "metadata": {},
     "output_type": "execute_result"
    }
   ],
   "source": [
    "enron_data['SKILLING JEFFREY K']['total_payments']"
   ]
  },
  {
   "cell_type": "code",
   "execution_count": 78,
   "id": "05a958b3",
   "metadata": {},
   "outputs": [
    {
     "name": "stdout",
     "output_type": "stream",
     "text": [
      "95\n"
     ]
    }
   ],
   "source": [
    "# count how many data entries have salary info\n",
    "count_has_salary = 0\n",
    "for person, features in enron_data.items():\n",
    "    if features['salary'] != 'NaN':\n",
    "        count_has_salary += 1\n",
    "print(count_has_salary)"
   ]
  },
  {
   "cell_type": "code",
   "execution_count": 80,
   "id": "b7f1aba8",
   "metadata": {},
   "outputs": [
    {
     "name": "stdout",
     "output_type": "stream",
     "text": [
      "111\n"
     ]
    }
   ],
   "source": [
    "# count how many data entries have email address info\n",
    "count_has_email = 0\n",
    "for person, features in enron_data.items():\n",
    "    if features['email_address'] != 'NaN':\n",
    "        count_has_email += 1\n",
    "print(count_has_email)"
   ]
  },
  {
   "cell_type": "code",
   "execution_count": 82,
   "id": "1da4608d",
   "metadata": {},
   "outputs": [],
   "source": [
    "# preparing data to be fed to scikit-learn\n",
    "def featureFormat( dictionary, features, remove_NaN=True, remove_all_zeroes=True, remove_any_zeroes=False ):\n",
    "    \"\"\" convert dictionary to numpy array of features\n",
    "        remove_NaN=True will convert \"NaN\" string to 0.0\n",
    "        remove_all_zeroes=True will omit any data points for which\n",
    "            all the features you seek are 0.0\n",
    "        remove_any_zeroes=True will omit any data points for which\n",
    "            any of the features you seek are 0.0\n",
    "    \"\"\"\n",
    "\n",
    "\n",
    "    return_list = []\n",
    "\n",
    "    for key in dictionary.keys():\n",
    "        tmp_list = []\n",
    "        append = False\n",
    "        for feature in features:\n",
    "            try:\n",
    "                dictionary[key][feature]\n",
    "            except KeyError:\n",
    "                print (\"error: key \", feature, \" not present\")\n",
    "                return\n",
    "            value = dictionary[key][feature]\n",
    "            if value==\"NaN\" and remove_NaN:\n",
    "                value = 0\n",
    "            tmp_list.append( float(value) )\n",
    "\n",
    "        ### if all features are zero and you want to remove\n",
    "        ### data points that are all zero, do that here\n",
    "        if remove_all_zeroes:\n",
    "            all_zeroes = True\n",
    "            for item in tmp_list:\n",
    "                if item != 0 and item != \"NaN\":\n",
    "                    append = True\n",
    "\n",
    "        ### if any features for a given data point are zero\n",
    "        ### and you want to remove data points with any zeroes,\n",
    "        ### handle that here\n",
    "        if remove_any_zeroes:\n",
    "            any_zeroes = False\n",
    "            if 0 in tmp_list or \"NaN\" in tmp_list:\n",
    "                append = False\n",
    "        if append:\n",
    "            return_list.append( np.array(tmp_list) )\n",
    "\n",
    "\n",
    "    return np.array(return_list)\n",
    "\n",
    "\n",
    "def targetFeatureSplit( data ):\n",
    "    \"\"\" \n",
    "        given a numpy array like the one returned from\n",
    "        featureFormat, separate out the first feature\n",
    "        and put it into its own list (this should be the \n",
    "        quantity you want to predict)\n",
    "\n",
    "        return targets and features as separate lists\n",
    "\n",
    "        (sklearn can generally handle both lists and numpy arrays as \n",
    "        input formats when training/predicting)\n",
    "    \"\"\"\n",
    "\n",
    "    target = []\n",
    "    features = []\n",
    "    for item in data:\n",
    "        target.append( item[0] )\n",
    "        features.append( item[1:] )\n",
    "\n",
    "    return target, features"
   ]
  },
  {
   "cell_type": "code",
   "execution_count": 99,
   "id": "8b624484",
   "metadata": {},
   "outputs": [
    {
     "name": "stdout",
     "output_type": "stream",
     "text": [
      "21 no payments info\n",
      "0.14383561643835616 entries have no total payments info\n"
     ]
    }
   ],
   "source": [
    "total_no_payment = 0\n",
    "for person, features in enron_data.items():\n",
    "    if features['total_payments'] == 'NaN':\n",
    "        total_no_payment += 1\n",
    "print(\"{0} no payments info\".format(total_no_payment))\n",
    "print(\"{0} entries have no total payments info\".format(float(total_no_payment) / len(enron_data)))"
   ]
  },
  {
   "cell_type": "code",
   "execution_count": 98,
   "id": "a5ad98e8",
   "metadata": {},
   "outputs": [
    {
     "name": "stdout",
     "output_type": "stream",
     "text": [
      "0.0 entries have no total payments info\n"
     ]
    }
   ],
   "source": [
    "total_no_payment = 0\n",
    "for person, features in enron_data.items():\n",
    "    if features['total_payments'] == 'NaN' and features['poi'] == True:\n",
    "        total_no_payment += 1\n",
    "print(\"{0} entries have no total payments info\".format(float(total_no_payment) / len(enron_data)))"
   ]
  },
  {
   "cell_type": "code",
   "execution_count": null,
   "id": "93697dee",
   "metadata": {},
   "outputs": [],
   "source": []
  }
 ],
 "metadata": {
  "kernelspec": {
   "display_name": "Python 3",
   "language": "python",
   "name": "python3"
  },
  "language_info": {
   "codemirror_mode": {
    "name": "ipython",
    "version": 3
   },
   "file_extension": ".py",
   "mimetype": "text/x-python",
   "name": "python",
   "nbconvert_exporter": "python",
   "pygments_lexer": "ipython3",
   "version": "3.8.10"
  }
 },
 "nbformat": 4,
 "nbformat_minor": 5
}
