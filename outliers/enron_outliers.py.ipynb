{
 "cells": [
  {
   "cell_type": "code",
   "execution_count": 9,
   "id": "775e9936",
   "metadata": {},
   "outputs": [],
   "source": [
    "import joblib\n",
    "import sys\n",
    "import matplotlib.pyplot\n",
    "sys.path.append(\"../tools/\")\n",
    "from feature_format import featureFormat, targetFeatureSplit"
   ]
  },
  {
   "cell_type": "code",
   "execution_count": 21,
   "id": "ab42d8aa",
   "metadata": {},
   "outputs": [],
   "source": [
    "### read in data dictionary, convert to numpy array\n",
    "data_dict = joblib.load( open(\"../final_project/final_project_dataset.pkl\", \"rb\") )\n",
    "features = [\"salary\", \"bonus\"]\n",
    "data = featureFormat(data_dict, features)"
   ]
  },
  {
   "cell_type": "code",
   "execution_count": 22,
   "id": "688fd620",
   "metadata": {},
   "outputs": [
    {
     "data": {
      "image/png": "[encoded data removed]",
      "text/plain": [
       "<Figure size 432x288 with 1 Axes>"
      ]
     },
     "metadata": {
      "needs_background": "light"
     },
     "output_type": "display_data"
    }
   ],
   "source": [
    "for point in data:\n",
    "    salary = point[0]\n",
    "    bonus = point[1]\n",
    "    matplotlib.pyplot.scatter( salary, bonus )\n",
    "\n",
    "matplotlib.pyplot.xlabel(\"salary\")\n",
    "matplotlib.pyplot.ylabel(\"bonus\")\n",
    "matplotlib.pyplot.show()"
   ]
  },
  {
   "cell_type": "code",
   "execution_count": 26,
   "id": "673559d5",
   "metadata": {},
   "outputs": [
    {
     "name": "stdout",
     "output_type": "stream",
     "text": [
      "TOTAL :  {'salary': 26704229, 'to_messages': 'NaN', 'deferral_payments': 32083396, 'total_payments': 309886585, 'loan_advances': 83925000, 'bonus': 97343619, 'email_address': 'NaN', 'restricted_stock_deferred': -7576788, 'deferred_income': -27992891, 'total_stock_value': 434509511, 'expenses': 5235198, 'from_poi_to_this_person': 'NaN', 'exercised_stock_options': 311764000, 'from_messages': 'NaN', 'other': 42667589, 'from_this_person_to_poi': 'NaN', 'poi': False, 'long_term_incentive': 48521928, 'shared_receipt_with_poi': 'NaN', 'restricted_stock': 130322299, 'director_fees': 1398517}\n"
     ]
    }
   ],
   "source": [
    "for key, value in data_dict.items():\n",
    "    if(value['salary'] != \"NaN\" and int(value['salary']) > 2000000):\n",
    "        print(key, \": \", value)"
   ]
  },
  {
   "cell_type": "markdown",
   "id": "1f52b5a2",
   "metadata": {},
   "source": [
    "We can immediately spot an outlier, now we need to identify the soure of it. As a reference, we will use a public data by FindLaw on Enron employees.\n",
    "After checking the pdf file, we can see that a person with exceptionally high salary (over 2.5 millions) and bonus (around 1 million) is TOTAL.\n",
    "\n",
    "## Removing an outlier"
   ]
  },
  {
   "cell_type": "code",
   "execution_count": 30,
   "id": "862ffec7",
   "metadata": {},
   "outputs": [],
   "source": [
    "# removing an outlier \n",
    "data_dict.pop('TOTAL', 0)\n",
    "data = featureFormat(data_dict, features)"
   ]
  },
  {
   "cell_type": "code",
   "execution_count": 31,
   "id": "86f3e39a",
   "metadata": {},
   "outputs": [
    {
     "data": {
      "image/png": "[encoded data removed]",
      "text/plain": [
       "<Figure size 432x288 with 1 Axes>"
      ]
     },
     "metadata": {
      "needs_background": "light"
     },
     "output_type": "display_data"
    }
   ],
   "source": [
    "# vis after removing an outlier\n",
    "for point in data:\n",
    "    salary = point[0]\n",
    "    bonus = point[1]\n",
    "    matplotlib.pyplot.scatter( salary, bonus )\n",
    "\n",
    "matplotlib.pyplot.xlabel(\"salary\")\n",
    "matplotlib.pyplot.ylabel(\"bonus\")\n",
    "matplotlib.pyplot.show()"
   ]
  },
  {
   "cell_type": "code",
   "execution_count": 35,
   "id": "62917c63",
   "metadata": {},
   "outputs": [
    {
     "name": "stdout",
     "output_type": "stream",
     "text": [
      "LAY KENNETH L :  {'salary': 1072321, 'to_messages': 4273, 'deferral_payments': 202911, 'total_payments': 103559793, 'loan_advances': 81525000, 'bonus': 7000000, 'email_address': 'kenneth.lay@enron.com', 'restricted_stock_deferred': 'NaN', 'deferred_income': -300000, 'total_stock_value': 49110078, 'expenses': 99832, 'from_poi_to_this_person': 123, 'exercised_stock_options': 34348384, 'from_messages': 36, 'other': 10359729, 'from_this_person_to_poi': 16, 'poi': True, 'long_term_incentive': 3600000, 'shared_receipt_with_poi': 2411, 'restricted_stock': 14761694, 'director_fees': 'NaN'} \n",
      "\n",
      "SKILLING JEFFREY K :  {'salary': 1111258, 'to_messages': 3627, 'deferral_payments': 'NaN', 'total_payments': 8682716, 'loan_advances': 'NaN', 'bonus': 5600000, 'email_address': 'jeff.skilling@enron.com', 'restricted_stock_deferred': 'NaN', 'deferred_income': 'NaN', 'total_stock_value': 26093672, 'expenses': 29336, 'from_poi_to_this_person': 88, 'exercised_stock_options': 19250000, 'from_messages': 108, 'other': 22122, 'from_this_person_to_poi': 30, 'poi': True, 'long_term_incentive': 1920000, 'shared_receipt_with_poi': 2042, 'restricted_stock': 6843672, 'director_fees': 'NaN'} \n",
      "\n"
     ]
    }
   ],
   "source": [
    "for key, value in data_dict.items():\n",
    "    if(value['salary'] != \"NaN\" and int(value['salary']) > 1000000 and int(value['bonus']) > 5000000):\n",
    "        print(key, \": \", value, \"\\n\")"
   ]
  },
  {
   "cell_type": "markdown",
   "id": "720c2342",
   "metadata": {},
   "source": [
    "After removing TOTAL outlier, we could see at least 4 more.\n",
    "We filtered out on the outliers that had a salary of over 1.000.000 and bonus of over 5.000.000."
   ]
  }
 ],
 "metadata": {
  "kernelspec": {
   "display_name": "Python 3",
   "language": "python",
   "name": "python3"
  },
  "language_info": {
   "codemirror_mode": {
    "name": "ipython",
    "version": 3
   },
   "file_extension": ".py",
   "mimetype": "text/x-python",
   "name": "python",
   "nbconvert_exporter": "python",
   "pygments_lexer": "ipython3",
   "version": "3.8.10"
  }
 },
 "nbformat": 4,
 "nbformat_minor": 5
}
