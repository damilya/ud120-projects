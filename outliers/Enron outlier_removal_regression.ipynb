{
 "cells": [
  {
   "cell_type": "code",
   "execution_count": 52,
   "id": "02e4e1ea",
   "metadata": {},
   "outputs": [],
   "source": [
    "import random\n",
    "import numpy as np\n",
    "import matplotlib.pyplot as plt\n",
    "import joblib"
   ]
  },
  {
   "cell_type": "code",
   "execution_count": 53,
   "id": "dae2c21f",
   "metadata": {},
   "outputs": [],
   "source": [
    "### load up some practice data with outliers in it\n",
    "ages = joblib.load( open(\"practice_outliers_ages.pkl\", \"rb\") )\n",
    "net_worths = joblib.load( open(\"practice_outliers_net_worths.pkl\", \"rb\") )"
   ]
  },
  {
   "cell_type": "code",
   "execution_count": 40,
   "id": "a6b13bf2",
   "metadata": {},
   "outputs": [],
   "source": [
    "### ages and net_worths need to be reshaped into 2D numpy arrays\n",
    "### second argument of reshape command is a tuple of integers: (n_rows, n_columns)\n",
    "### by convention, n_rows is the number of data points\n",
    "### and n_columns is the number of features\n",
    "ages       = numpy.reshape( np.array(ages), (len(ages), 1))\n",
    "net_worths = numpy.reshape( np.array(net_worths), (len(net_worths), 1))\n",
    "from sklearn.model_selection import train_test_split\n",
    "ages_train, ages_test, net_worths_train, net_worths_test = train_test_split(ages, net_worths, test_size=0.1, random_state=42)"
   ]
  },
  {
   "cell_type": "markdown",
   "id": "cd06544e",
   "metadata": {},
   "source": [
    "## Slope before cleaning outliers"
   ]
  },
  {
   "cell_type": "code",
   "execution_count": 41,
   "id": "87ca7e01",
   "metadata": {},
   "outputs": [
    {
     "name": "stdout",
     "output_type": "stream",
     "text": [
      "slope before removing outliers:  [[5.07793064]]\n",
      "intercept before removing outliers:  [25.21002155]\n"
     ]
    }
   ],
   "source": [
    "# fitting in the regression\n",
    "from sklearn.linear_model import LinearRegression\n",
    "reg = LinearRegression()\n",
    "reg.fit(ages_train, net_worths_train)\n",
    "print(\"slope before removing outliers: \", reg.coef_)\n",
    "print(\"intercept before removing outliers: \", reg.intercept_)"
   ]
  },
  {
   "cell_type": "markdown",
   "id": "ef8927e4",
   "metadata": {},
   "source": [
    "## Score before cleaning outliers"
   ]
  },
  {
   "cell_type": "code",
   "execution_count": 42,
   "id": "af4be975",
   "metadata": {},
   "outputs": [
    {
     "name": "stdout",
     "output_type": "stream",
     "text": [
      "score (r-squared score) on training data:  0.8782624703664672\n"
     ]
    }
   ],
   "source": [
    "# calculating the score of prediciton on test data using the trained regression model\n",
    "print(\"score (r-squared score) on training data: \", reg.score(ages_test, net_worths_test))"
   ]
  },
  {
   "cell_type": "markdown",
   "id": "ca5b5f48",
   "metadata": {},
   "source": [
    "## Visualisation before removing outliers"
   ]
  },
  {
   "cell_type": "code",
   "execution_count": 43,
   "id": "389e3878",
   "metadata": {},
   "outputs": [
    {
     "data": {
      "image/png": "[encoded data removed]",
      "text/plain": [
       "<Figure size 432x288 with 1 Axes>"
      ]
     },
     "metadata": {
      "needs_background": "light"
     },
     "output_type": "display_data"
    }
   ],
   "source": [
    "# visualising before removing outliers\n",
    "try:\n",
    "    plt.plot(ages, reg.predict(ages), color=\"blue\")\n",
    "except NameError:\n",
    "    pass\n",
    "plt.scatter(ages, net_worths)\n",
    "plt.show()"
   ]
  },
  {
   "cell_type": "markdown",
   "id": "f90ea6b0",
   "metadata": {},
   "source": [
    "## Cleaning the outliers"
   ]
  },
  {
   "cell_type": "code",
   "execution_count": 54,
   "id": "fbe88093",
   "metadata": {},
   "outputs": [],
   "source": [
    "def outlierCleaner(predictions, ages, net_worths):\n",
    "    \"\"\"\n",
    "        Clean away the 10% of points that have the largest\n",
    "        residual errors (difference between the prediction\n",
    "        and the actual net worth).\n",
    "\n",
    "        Return a list of tuples named cleaned_data where \n",
    "        each tuple is of the form (age, net_worth, error).\n",
    "    \"\"\"\n",
    "    \n",
    "    cleaned_data = []\n",
    "\n",
    "    ### calculating errors = actual - predicted\n",
    "    errors = net_worths - predictions\n",
    "    threshold = np.percentile(np.absolute(errors), 90)\n",
    "        \n",
    "    for age, net_worth, error in zip(ages, net_worths, errors):\n",
    "        if abs(error) <= threshold:\n",
    "            cleaned_data.append((age, net_worth, error))\n",
    "    \n",
    "    return cleaned_data"
   ]
  },
  {
   "cell_type": "code",
   "execution_count": 56,
   "id": "a27b92b4",
   "metadata": {},
   "outputs": [],
   "source": [
    "### identify and remove the most outlier-y points\n",
    "cleaned_data = []\n",
    "try:\n",
    "    predictions = reg.predict(ages_train)\n",
    "    cleaned_data = outlierCleaner( predictions, ages_train, net_worths_train )\n",
    "except NameError:\n",
    "    print(\"Your regression object doesn't exist, or isn't name reg\")\n",
    "    print(\"Can't make predictions to use in identifying outliers\")"
   ]
  },
  {
   "cell_type": "markdown",
   "id": "a2e9be94",
   "metadata": {},
   "source": [
    "## Slope after cleaning outliers"
   ]
  },
  {
   "cell_type": "code",
   "execution_count": 58,
   "id": "8fdbc42c",
   "metadata": {},
   "outputs": [],
   "source": [
    "ages_train_clean, net_worths_train_clean, errors_train_clean = zip(*cleaned_data)\n",
    "ages_train_clean       = numpy.reshape( np.array(ages_train_clean), (len(ages_train_clean), 1))\n",
    "net_worths_train_clean = numpy.reshape( np.array(net_worths_train_clean), (len(net_worths_train_clean), 1))"
   ]
  },
  {
   "cell_type": "code",
   "execution_count": 59,
   "id": "2bb09c61",
   "metadata": {},
   "outputs": [
    {
     "name": "stdout",
     "output_type": "stream",
     "text": [
      "slope before removing outliers:  [[6.36859481]]\n",
      "intercept before removing outliers:  [-6.91861069]\n"
     ]
    }
   ],
   "source": [
    "# fitting in the regression\n",
    "from sklearn.linear_model import LinearRegression\n",
    "reg = LinearRegression()\n",
    "reg.fit(ages_train_clean, net_worths_train_clean)\n",
    "print(\"slope before removing outliers: \", reg.coef_)\n",
    "print(\"intercept before removing outliers: \", reg.intercept_)"
   ]
  },
  {
   "cell_type": "markdown",
   "id": "6f3961ee",
   "metadata": {},
   "source": [
    "## Score after cleaning outliers"
   ]
  },
  {
   "cell_type": "code",
   "execution_count": 60,
   "id": "a8947a5a",
   "metadata": {},
   "outputs": [
    {
     "name": "stdout",
     "output_type": "stream",
     "text": [
      "score (r-squared score) on training data:  0.983189455395532\n"
     ]
    }
   ],
   "source": [
    "# calculating the score of prediciton on test data using the trained regression model\n",
    "print(\"score (r-squared score) on training data: \", reg.score(ages_test, net_worths_test))"
   ]
  },
  {
   "cell_type": "code",
   "execution_count": 61,
   "id": "a5572d52",
   "metadata": {},
   "outputs": [
    {
     "data": {
      "image/png": "[encoded data removed]",
      "text/plain": [
       "<Figure size 432x288 with 1 Axes>"
      ]
     },
     "metadata": {
      "needs_background": "light"
     },
     "output_type": "display_data"
    }
   ],
   "source": [
    "### only run this code if cleaned_data is returning data\n",
    "if len(cleaned_data) > 0:\n",
    "    ages, net_worths, errors = zip(*cleaned_data)\n",
    "    ages       = numpy.reshape( numpy.array(ages), (len(ages), 1))\n",
    "    net_worths = numpy.reshape( numpy.array(net_worths), (len(net_worths), 1))\n",
    "\n",
    "    ### refit your cleaned data!\n",
    "    try:\n",
    "        reg.fit(ages, net_worths)\n",
    "        plt.plot(ages, reg.predict(ages), color=\"blue\")\n",
    "    except NameError:\n",
    "        print(\"You don't seem to have regression imported/created,\")\n",
    "        print(\"   or else your regression object isn't named reg\")\n",
    "        print(\"   either way, only draw the scatter plot of the cleaned data\")\n",
    "    plt.scatter(ages, net_worths)\n",
    "    plt.xlabel(\"ages\")\n",
    "    plt.ylabel(\"net worths\")\n",
    "    plt.show()\n",
    "\n",
    "\n",
    "else:\n",
    "    print(\"outlierCleaner() is returning an empty list, no refitting to be done\")"
   ]
  }
 ],
 "metadata": {
  "kernelspec": {
   "display_name": "Python 3",
   "language": "python",
   "name": "python3"
  },
  "language_info": {
   "codemirror_mode": {
    "name": "ipython",
    "version": 3
   },
   "file_extension": ".py",
   "mimetype": "text/x-python",
   "name": "python",
   "nbconvert_exporter": "python",
   "pygments_lexer": "ipython3",
   "version": "3.8.10"
  }
 },
 "nbformat": 4,
 "nbformat_minor": 5
}
