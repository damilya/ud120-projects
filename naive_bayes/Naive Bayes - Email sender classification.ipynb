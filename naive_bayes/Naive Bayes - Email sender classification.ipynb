{
 "cells": [
  {
   "cell_type": "code",
   "execution_count": 1,
   "id": "018e6960",
   "metadata": {},
   "outputs": [],
   "source": [
    "import sys\n",
    "from time import time\n",
    "sys.path.append(\"../tools/\")\n",
    "from email_preprocess import preprocess"
   ]
  },
  {
   "cell_type": "code",
   "execution_count": 2,
   "id": "561d8e39",
   "metadata": {},
   "outputs": [
    {
     "name": "stdout",
     "output_type": "stream",
     "text": [
      "No. of Chris training emails :  7936\n",
      "No. of Sara training emails :  7884\n"
     ]
    }
   ],
   "source": [
    "### features_train and features_test are the features for the training\n",
    "### and testing datasets, respectively\n",
    "### labels_train and labels_test are the corresponding item labels\n",
    "features_train, features_test, labels_train, labels_test = preprocess()"
   ]
  },
  {
   "cell_type": "code",
   "execution_count": 3,
   "id": "c9065c57",
   "metadata": {},
   "outputs": [],
   "source": [
    "from sklearn.naive_bayes import GaussianNB"
   ]
  },
  {
   "cell_type": "code",
   "execution_count": 9,
   "id": "94b05f8d",
   "metadata": {},
   "outputs": [
    {
     "name": "stdout",
     "output_type": "stream",
     "text": [
      "training time:  1.669 s\n"
     ]
    }
   ],
   "source": [
    "# training a classifier (clf) and timing the execution\n",
    "t0 = time()\n",
    "clf = GaussianNB()\n",
    "clf.fit(features_train, labels_train)\n",
    "print(\"training time: \", round(time() - t0, 3), \"s\")"
   ]
  },
  {
   "cell_type": "code",
   "execution_count": 10,
   "id": "13a0a45d",
   "metadata": {},
   "outputs": [
    {
     "name": "stdout",
     "output_type": "stream",
     "text": [
      "prediction time:  0.113 s\n"
     ]
    }
   ],
   "source": [
    "# calculating the vector of predictions and timing the execution\n",
    "t1 = time()\n",
    "pred = clf.predict(features_test)\n",
    "print(\"prediction time: \", round(time() - t1, 3), \"s\")"
   ]
  },
  {
   "cell_type": "code",
   "execution_count": 8,
   "id": "b9752891",
   "metadata": {},
   "outputs": [
    {
     "name": "stdout",
     "output_type": "stream",
     "text": [
      "0.9732650739476678\n"
     ]
    }
   ],
   "source": [
    "# calculating accuracy of our algo\n",
    "accuracy = clf.score(features_test, labels_test)\n",
    "print(accuracy)"
   ]
  },
  {
   "cell_type": "code",
   "execution_count": null,
   "id": "9de84228",
   "metadata": {},
   "outputs": [],
   "source": []
  }
 ],
 "metadata": {
  "kernelspec": {
   "display_name": "Python [conda env:root] *",
   "language": "python",
   "name": "conda-root-py"
  },
  "language_info": {
   "codemirror_mode": {
    "name": "ipython",
    "version": 3
   },
   "file_extension": ".py",
   "mimetype": "text/x-python",
   "name": "python",
   "nbconvert_exporter": "python",
   "pygments_lexer": "ipython3",
   "version": "3.8.10"
  }
 },
 "nbformat": 4,
 "nbformat_minor": 5
}
