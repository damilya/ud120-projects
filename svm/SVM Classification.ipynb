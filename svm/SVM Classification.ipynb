{
 "cells": [
  {
   "cell_type": "code",
   "execution_count": 93,
   "id": "a797301a",
   "metadata": {},
   "outputs": [],
   "source": [
    "import sys\n",
    "from time import time\n",
    "sys.path.append(\"../tools/\")\n",
    "from email_preprocess import preprocess\n",
    "from sklearn.svm import SVC\n",
    "from sklearn.metrics import accuracy_score"
   ]
  },
  {
   "cell_type": "code",
   "execution_count": 83,
   "id": "49f6ce64",
   "metadata": {},
   "outputs": [
    {
     "name": "stdout",
     "output_type": "stream",
     "text": [
      "No. of Chris training emails :  7936\n",
      "No. of Sara training emails :  7884\n"
     ]
    }
   ],
   "source": [
    "### features_train and features_test are the features for the training\n",
    "### and testing datasets, respectively\n",
    "### labels_train and labels_test are the corresponding item labels\n",
    "features_train, features_test, labels_train, labels_test = preprocess()"
   ]
  },
  {
   "cell_type": "code",
   "execution_count": 76,
   "id": "11778c4d",
   "metadata": {},
   "outputs": [
    {
     "name": "stdout",
     "output_type": "stream",
     "text": [
      "training time:  117.647 s\n"
     ]
    }
   ],
   "source": [
    "# creating classifier and fitting in training data\n",
    "clf = SVC(kernel='linear')\n",
    "t0 = time()\n",
    "clf.fit(features_train, labels_train)\n",
    "print(\"training time: \", round(time() - t0, 3), \"s\")"
   ]
  },
  {
   "cell_type": "code",
   "execution_count": 77,
   "id": "e90adad3",
   "metadata": {},
   "outputs": [
    {
     "name": "stdout",
     "output_type": "stream",
     "text": [
      "prediction time:  11.172 s\n"
     ]
    }
   ],
   "source": [
    "# calculating prediction \n",
    "t0 = time()\n",
    "pred = clf.predict(features_test)\n",
    "print(\"prediction time: \", round(time() - t0, 3), \"s\")"
   ]
  },
  {
   "cell_type": "code",
   "execution_count": 17,
   "id": "895be2ee",
   "metadata": {},
   "outputs": [
    {
     "name": "stdout",
     "output_type": "stream",
     "text": [
      "accuracy:  0.9840728100113766\n"
     ]
    }
   ],
   "source": [
    "acc = accuracy_score(pred, labels_test)\n",
    "print(\"accuracy: \", acc)"
   ]
  },
  {
   "cell_type": "markdown",
   "id": "74b41b6d",
   "metadata": {},
   "source": [
    "## Speeding up the training time\n",
    "\n",
    "In order to speed up SVM algo, we have to slice the training dataset. In our case, we will try to see how it works with only 1% of the original dataset, as an experiment."
   ]
  },
  {
   "cell_type": "code",
   "execution_count": 84,
   "id": "a35e3aef",
   "metadata": {},
   "outputs": [],
   "source": [
    "features_train = features_train[:int(len(features_train)/100)]\n",
    "labels_train = labels_train[:int(len(labels_train)/100)]"
   ]
  },
  {
   "cell_type": "code",
   "execution_count": 85,
   "id": "b7436e6f",
   "metadata": {},
   "outputs": [
    {
     "name": "stdout",
     "output_type": "stream",
     "text": [
      "training time:  0.083 s\n"
     ]
    }
   ],
   "source": [
    "t0 = time()\n",
    "clf.fit(features_train, labels_train)\n",
    "print(\"training time: \", round(time() - t0, 3), \"s\")"
   ]
  },
  {
   "cell_type": "code",
   "execution_count": 86,
   "id": "1207e2de",
   "metadata": {},
   "outputs": [
    {
     "name": "stdout",
     "output_type": "stream",
     "text": [
      "prediction time:  0.566 s\n"
     ]
    }
   ],
   "source": [
    "t0 = time()\n",
    "pred = clf.predict(features_test)\n",
    "print(\"prediction time: \", round(time() - t0, 3), \"s\")"
   ]
  },
  {
   "cell_type": "code",
   "execution_count": 87,
   "id": "ec9f379a",
   "metadata": {},
   "outputs": [
    {
     "name": "stdout",
     "output_type": "stream",
     "text": [
      "accuracy:  0.8845278725824801\n"
     ]
    }
   ],
   "source": [
    "acc = accuracy_score(pred, labels_test)\n",
    "print(\"accuracy: \", acc)"
   ]
  },
  {
   "cell_type": "code",
   "execution_count": 23,
   "id": "e6804543",
   "metadata": {},
   "outputs": [],
   "source": [
    "### rfb kernel ###"
   ]
  },
  {
   "cell_type": "code",
   "execution_count": 36,
   "id": "06b83057",
   "metadata": {},
   "outputs": [
    {
     "name": "stdout",
     "output_type": "stream",
     "text": [
      "training time:  0.08 s\n"
     ]
    }
   ],
   "source": [
    "clf_rbf = SVC(kernel='rbf', gamma='auto')\n",
    "t0 = time()\n",
    "clf_rbf.fit(features_train, labels_train)\n",
    "print(\"training time: \", round(time() - t0, 3), \"s\")"
   ]
  },
  {
   "cell_type": "code",
   "execution_count": 38,
   "id": "e510c773",
   "metadata": {},
   "outputs": [
    {
     "name": "stdout",
     "output_type": "stream",
     "text": [
      "prediction time:  1.096 s\n"
     ]
    }
   ],
   "source": [
    "t0 = time()\n",
    "pred = clf_rbf.predict(features_test)\n",
    "print(\"prediction time: \", round(time() - t0, 3), \"s\")"
   ]
  },
  {
   "cell_type": "code",
   "execution_count": 39,
   "id": "f821909f",
   "metadata": {},
   "outputs": [
    {
     "name": "stdout",
     "output_type": "stream",
     "text": [
      "accuracy:  0.6160409556313993\n"
     ]
    }
   ],
   "source": [
    "acc = accuracy_score(pred, labels_test)\n",
    "print(\"accuracy: \", acc)"
   ]
  },
  {
   "cell_type": "code",
   "execution_count": 40,
   "id": "789c85d6",
   "metadata": {},
   "outputs": [],
   "source": [
    "### rfb kernel + C ###"
   ]
  },
  {
   "cell_type": "code",
   "execution_count": 50,
   "id": "4f4969f6",
   "metadata": {},
   "outputs": [
    {
     "name": "stdout",
     "output_type": "stream",
     "text": [
      "training time:  0.08 s\n"
     ]
    }
   ],
   "source": [
    "clf_rbf = SVC(kernel='rbf', gamma='auto', C=10000)\n",
    "t0 = time()\n",
    "clf_rbf.fit(features_train, labels_train)\n",
    "print(\"training time: \", round(time() - t0, 3), \"s\")"
   ]
  },
  {
   "cell_type": "code",
   "execution_count": 51,
   "id": "21d93a4a",
   "metadata": {},
   "outputs": [
    {
     "name": "stdout",
     "output_type": "stream",
     "text": [
      "prediction time:  0.861 s\n"
     ]
    }
   ],
   "source": [
    "t0 = time()\n",
    "pred = clf_rbf.predict(features_test)\n",
    "print(\"prediction time: \", round(time() - t0, 3), \"s\")"
   ]
  },
  {
   "cell_type": "code",
   "execution_count": 52,
   "id": "be0a7526",
   "metadata": {},
   "outputs": [
    {
     "name": "stdout",
     "output_type": "stream",
     "text": [
      "accuracy:  0.8924914675767918\n"
     ]
    }
   ],
   "source": [
    "acc = accuracy_score(pred, labels_test)\n",
    "print(\"accuracy: \", acc)"
   ]
  },
  {
   "cell_type": "markdown",
   "id": "c51edf16",
   "metadata": {},
   "source": [
    "With an increased C parameter, we get a better accuracy. But we shall not anticipate that a larger C results in a more complex boundary."
   ]
  },
  {
   "cell_type": "code",
   "execution_count": 53,
   "id": "aba06770",
   "metadata": {},
   "outputs": [
    {
     "name": "stdout",
     "output_type": "stream",
     "text": [
      "No. of Chris training emails :  7936\n",
      "No. of Sara training emails :  7884\n"
     ]
    }
   ],
   "source": [
    "### going back to the full dataset ###\n",
    "features_train, features_test, labels_train, labels_test = preprocess()"
   ]
  },
  {
   "cell_type": "code",
   "execution_count": 54,
   "id": "bdef2e40",
   "metadata": {},
   "outputs": [
    {
     "name": "stdout",
     "output_type": "stream",
     "text": [
      "training time:  65.722 s\n"
     ]
    }
   ],
   "source": [
    "clf_rbf = SVC(kernel='rbf', gamma='auto', C=10000)\n",
    "t0 = time()\n",
    "clf_rbf.fit(features_train, labels_train)\n",
    "print(\"training time: \", round(time() - t0, 3), \"s\")"
   ]
  },
  {
   "cell_type": "code",
   "execution_count": 55,
   "id": "217db84d",
   "metadata": {},
   "outputs": [
    {
     "name": "stdout",
     "output_type": "stream",
     "text": [
      "prediction time:  9.795 s\n"
     ]
    }
   ],
   "source": [
    "t0 = time()\n",
    "pred = clf_rbf.predict(features_test)\n",
    "print(\"prediction time: \", round(time() - t0, 3), \"s\")"
   ]
  },
  {
   "cell_type": "code",
   "execution_count": 56,
   "id": "f34ccf54",
   "metadata": {},
   "outputs": [
    {
     "name": "stdout",
     "output_type": "stream",
     "text": [
      "accuracy:  0.9908987485779295\n"
     ]
    }
   ],
   "source": [
    "acc = accuracy_score(pred, labels_test)\n",
    "print(\"accuracy: \", acc)"
   ]
  },
  {
   "cell_type": "code",
   "execution_count": 57,
   "id": "81e00f2b",
   "metadata": {},
   "outputs": [],
   "source": [
    "### back to 1% dataset ###"
   ]
  },
  {
   "cell_type": "code",
   "execution_count": 58,
   "id": "c9b8cb12",
   "metadata": {},
   "outputs": [],
   "source": [
    "features_train = features_train[:int(len(features_train)/100)]\n",
    "labels_train = labels_train[:int(len(labels_train)/100)]"
   ]
  },
  {
   "cell_type": "code",
   "execution_count": 59,
   "id": "a16e0c78",
   "metadata": {},
   "outputs": [
    {
     "name": "stdout",
     "output_type": "stream",
     "text": [
      "training time:  0.096 s\n"
     ]
    }
   ],
   "source": [
    "clf_rbf = SVC(kernel='rbf', gamma='auto', C=10000)\n",
    "t0 = time()\n",
    "clf_rbf.fit(features_train, labels_train)\n",
    "print(\"training time: \", round(time() - t0, 3), \"s\")"
   ]
  },
  {
   "cell_type": "code",
   "execution_count": 63,
   "id": "a26a0028",
   "metadata": {},
   "outputs": [
    {
     "name": "stdout",
     "output_type": "stream",
     "text": [
      "prediction time:  0.776 s\n",
      "pediction for the 10th, 26th, 50th element:  1 0 1\n"
     ]
    }
   ],
   "source": [
    "t0 = time()\n",
    "pred = clf_rbf.predict(features_test)\n",
    "print(\"prediction time: \", round(time() - t0, 3), \"s\")\n",
    "print(\"pediction for the 10th, 26th, 50th element: \", pred[10], pred[26], pred[50])"
   ]
  },
  {
   "cell_type": "code",
   "execution_count": null,
   "id": "294207ac",
   "metadata": {},
   "outputs": [],
   "source": [
    "### back to full dataset to check how many emails are predicted to be written by Chris ###"
   ]
  },
  {
   "cell_type": "code",
   "execution_count": 73,
   "id": "2ef17d2b",
   "metadata": {},
   "outputs": [
    {
     "name": "stdout",
     "output_type": "stream",
     "text": [
      "No. of Chris training emails :  7936\n",
      "No. of Sara training emails :  7884\n",
      "Emails predicted to be written by Chris:  877\n"
     ]
    }
   ],
   "source": [
    "features_train, features_test, labels_train, labels_test = preprocess()\n",
    "clf_rbf.fit(features_train, labels_train)\n",
    "print(\"Emails predicted to be written by Chris: \", sum(clf_rbf.predict(features_test) == 1))"
   ]
  },
  {
   "cell_type": "code",
   "execution_count": null,
   "id": "91c269b9",
   "metadata": {},
   "outputs": [],
   "source": []
  }
 ],
 "metadata": {
  "kernelspec": {
   "display_name": "Python [conda env:root] *",
   "language": "python",
   "name": "conda-root-py"
  },
  "language_info": {
   "codemirror_mode": {
    "name": "ipython",
    "version": 3
   },
   "file_extension": ".py",
   "mimetype": "text/x-python",
   "name": "python",
   "nbconvert_exporter": "python",
   "pygments_lexer": "ipython3",
   "version": "3.8.10"
  }
 },
 "nbformat": 4,
 "nbformat_minor": 5
}
