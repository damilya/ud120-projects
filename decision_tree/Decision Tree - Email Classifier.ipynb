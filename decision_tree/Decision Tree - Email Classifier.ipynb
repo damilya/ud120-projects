{
 "cells": [
  {
   "cell_type": "code",
   "execution_count": 6,
   "id": "dfe74d43",
   "metadata": {},
   "outputs": [],
   "source": [
    "import sys\n",
    "from time import time\n",
    "sys.path.append(\"../tools/\")\n",
    "from email_preprocess import preprocess\n",
    "from sklearn import tree\n",
    "from sklearn.metrics import accuracy_score"
   ]
  },
  {
   "cell_type": "code",
   "execution_count": 7,
   "id": "e687dd2a",
   "metadata": {},
   "outputs": [
    {
     "name": "stdout",
     "output_type": "stream",
     "text": [
      "hello\n",
      "No. --- of Chris training emails :  7936\n",
      "No. of Sara training emails :  7884\n"
     ]
    }
   ],
   "source": [
    "### features_train and features_test are the features for the training\n",
    "### and testing datasets, respectively\n",
    "### labels_train and labels_test are the corresponding item labels\n",
    "features_train, features_test, labels_train, labels_test = preprocess()"
   ]
  },
  {
   "cell_type": "markdown",
   "id": "06a8b08c",
   "metadata": {},
   "source": [
    "## Part 1: Get the Decision Tree Running\n",
    "Get the decision tree up and running as a classifier, setting min_samples_split=40.  It will probably take a while to train.  What’s the accuracy?"
   ]
  },
  {
   "cell_type": "code",
   "execution_count": 12,
   "id": "ec5572c8",
   "metadata": {},
   "outputs": [],
   "source": [
    "clf = tree.DecisionTreeClassifier(min_samples_split=40)\n",
    "clf = clf.fit(features_train, labels_train)"
   ]
  },
  {
   "cell_type": "code",
   "execution_count": 7,
   "id": "d15d3653",
   "metadata": {},
   "outputs": [
    {
     "name": "stdout",
     "output_type": "stream",
     "text": [
      "accuracy of the Decision Tree algo with 40 min samples split:  0.9783845278725825\n"
     ]
    }
   ],
   "source": [
    "pred = clf.predict(features_test)\n",
    "acc = accuracy_score(pred, labels_test)\n",
    "print(\"accuracy of the Decision Tree algo with 40 min samples split: \", acc)"
   ]
  },
  {
   "cell_type": "code",
   "execution_count": 3,
   "id": "af3bd3d9",
   "metadata": {},
   "outputs": [
    {
     "data": {
      "text/plain": [
       "379"
      ]
     },
     "execution_count": 3,
     "metadata": {},
     "output_type": "execute_result"
    }
   ],
   "source": [
    "# counting the number of features\n",
    "len(features_train[0])"
   ]
  },
  {
   "cell_type": "markdown",
   "id": "9a57b81d",
   "metadata": {},
   "source": [
    "A larger number of features gives a more complex decision tree. "
   ]
  },
  {
   "cell_type": "code",
   "execution_count": 4,
   "id": "5f0f4c0b",
   "metadata": {},
   "outputs": [],
   "source": [
    "# checking the accuracy for 1% of the available features (percentile = 1)\n",
    "clf = tree.DecisionTreeClassifier(min_samples_split=40)\n",
    "clf = clf.fit(features_train, labels_train)"
   ]
  },
  {
   "cell_type": "code",
   "execution_count": 5,
   "id": "f2641083",
   "metadata": {},
   "outputs": [
    {
     "name": "stdout",
     "output_type": "stream",
     "text": [
      "accuracy of the Decision Tree algo with 40 min samples split and 1% of the features:  0.9670079635949943\n"
     ]
    }
   ],
   "source": [
    "pred = clf.predict(features_test)\n",
    "acc = accuracy_score(pred, labels_test)\n",
    "print(\"accuracy of the Decision Tree algo with 40 min samples split and 1% of the features: \", acc)"
   ]
  },
  {
   "cell_type": "code",
   "execution_count": null,
   "id": "9210c8f1",
   "metadata": {},
   "outputs": [],
   "source": []
  }
 ],
 "metadata": {
  "kernelspec": {
   "display_name": "Python [conda env:root] *",
   "language": "python",
   "name": "conda-root-py"
  },
  "language_info": {
   "codemirror_mode": {
    "name": "ipython",
    "version": 3
   },
   "file_extension": ".py",
   "mimetype": "text/x-python",
   "name": "python",
   "nbconvert_exporter": "python",
   "pygments_lexer": "ipython3",
   "version": "3.8.10"
  }
 },
 "nbformat": 4,
 "nbformat_minor": 5
}
